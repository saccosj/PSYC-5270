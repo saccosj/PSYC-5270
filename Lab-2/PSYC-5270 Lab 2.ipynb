{
 "cells": [
  {
   "cell_type": "code",
   "execution_count": 16,
   "metadata": {},
   "outputs": [],
   "source": [
    "import numpy as np              \n",
    "import os    \n",
    "import csv                  \n",
    "import pandas as pd             \n",
    "import matplotlib               \n",
    "import matplotlib.pyplot as plt \n",
    "import scipy.stats as stats\n",
    "from sklearn.utils import resample\n",
    "from sklearn.tree import DecisionTreeClassifier\n",
    "from sklearn.metrics import accuracy_score\n",
    "from sklearn import datasets, linear_model\n",
    "\n",
    "pptdata = os.path.join('C:Downloads/lab2/', 'BodyBrain.csv');\n",
    "data = pd.read_csv(pptdata);\n"
   ]
  },
  {
   "cell_type": "code",
   "execution_count": 42,
   "metadata": {},
   "outputs": [],
   "source": [
    "X = data['# log10 body weight (kg)'].values.reshape(-1, 1)\n",
    "Y = data[' log10 brain weight (g)'].values\n",
    "\n",
    "def bootstrap_resample(X, n=None):\n",
    "    if n == None:\n", 
    "        n = len(X)\n",
    "    resample_i = np.floor(np.random.rand(n)*len(X)).astype(int)\n",
    "    X_resample = X[resample_i]\n",
    "    return X_resample"
   ]
  },
  {
   "cell_type": "code",
   "execution_count": 52,
   "metadata": {},
   "outputs": [
    {
     "name": "stdout",
     "output_type": "stream",
     "text": [
      "original mean: 0.581\n",
      "resampled mean: 0.583\n"
     ]
    }
   ],
   "source": [
    "X_resampled = np.zeros((5000,62,62))\n",
    "bs = np.zeros((5000,62))\n",
    "i=0\n",
    "while i < 5000:\n",
    "    X_resampled[i,:] = bootstrap_resample(X)\n",
    "    X_resample = bootstrap_resample(X)\n",
    "    regr = linear_model.LinearRegression()\n",
    "    regr.fit(X_resample, Y)\n",
    "    bs[i,:] = regr.predict(X)\n",
    "    i = i +1 \n",
    "\n",
    "print ('original mean:', round(X.mean(),3))\n",
    "print ('resampled mean:', round(X_resampled.mean(),3))"
   ]
  },
  {
   "cell_type": "code",
   "execution_count": 53,
   "metadata": {},
   "outputs": [
    {
     "data": {
      "image/png": "[encoded data removed]",
      "text/plain": [
       "<matplotlib.figure.Figure at 0x1d454247b00>"
      ]
     },
     "metadata": {},
     "output_type": "display_data"
    }
   ],
   "source": [
    "plt.hist(X_resampled[:,:,0], bins=20) \n",
    "plt.title(\"Body weight Bootstrapped\")\n",
    "plt.axis([-10,10,0,1000])\n",
    "plt.show()"
   ]
  },
  {
   "cell_type": "code",
   "execution_count": 69,
   "metadata": {},
   "outputs": [
    {
     "data": {
      "image/png": "[encoded data removed]",
      "text/plain": [
       "<matplotlib.figure.Figure at 0x1d4548c88d0>"
      ]
     },
     "metadata": {},
     "output_type": "display_data"
    }
   ],
   "source": [
    "plt.scatter(X,Y)\n",
    "reg = linear_model.LinearRegression()\n",
    "reg.fit(X,Y)\n",
    "pred = reg.predict(X)\n",
    "plt.plot(X,pred, c='r')\n",
    "plt.show()"
   ]
  }
 ],
 "metadata": {
  "kernelspec": {
   "display_name": "Python 3",
   "language": "python",
   "name": "python3"
  },
  "language_info": {
   "codemirror_mode": {
    "name": "ipython",
    "version": 3
   },
   "file_extension": ".py",
   "mimetype": "text/x-python",
   "name": "python",
   "nbconvert_exporter": "python",
   "pygments_lexer": "ipython3",
   "version": "3.6.3"
  }
 },
 "nbformat": 4,
 "nbformat_minor": 2
}
